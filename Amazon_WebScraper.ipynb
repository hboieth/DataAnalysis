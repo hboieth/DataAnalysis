{
  "nbformat": 4,
  "nbformat_minor": 0,
  "metadata": {
    "colab": {
      "provenance": [],
      "authorship_tag": "ABX9TyMSyl4K67lWgkUtA3Bkss3q",
      "include_colab_link": true
    },
    "kernelspec": {
      "name": "python3",
      "display_name": "Python 3"
    },
    "language_info": {
      "name": "python"
    }
  },
  "cells": [
    {
      "cell_type": "markdown",
      "metadata": {
        "id": "view-in-github",
        "colab_type": "text"
      },
      "source": [
        "<a href=\"https://colab.research.google.com/github/hboieth/DataAnalysis/blob/main/Amazon_WebScraper.ipynb\" target=\"_parent\"><img src=\"https://colab.research.google.com/assets/colab-badge.svg\" alt=\"Open In Colab\"/></a>"
      ]
    },
    {
      "cell_type": "code",
      "execution_count": 6,
      "metadata": {
        "id": "SXM_hxxDfheV"
      },
      "outputs": [],
      "source": [
        "from bs4 import BeautifulSoup\n",
        "import requests\n",
        "\n",
        "import time\n",
        "import datetime\n",
        "\n",
        "\n",
        "import smtplib"
      ]
    },
    {
      "cell_type": "code",
      "source": [
        "#Connect to the website\n",
        "\n",
        "URL = 'https://www.amazon.com/Business-Intelligence-Analyst-T-Shirt-Nothing/dp/B0DP84L2PP/ref=sr_1_1?crid=2MFTC47XTVUW9&dib=eyJ2IjoiMSJ9.CeHoY89Fz9c8IN3obB09rIticbWgLrXYJ_RLDRPn-VHkcwhRX_E_g7re9p0FNva4AH2SwA5pnMlT1bT4chM0is95p9bhGn7Gbi1ibBMf2iTqAQfpVGI_29Py5mHIQd5t.FBhYk2VEsGfmssk9h10NqrOoHx7LidvYvZJ9tuQvZWw&dib_tag=se&keywords=Funny%2BBusiness%2BAnalyst%2BT-shirt&qid=1759492099&sprefix=funnybusiness%2Banalyst%2Bt-shirt%2Caps%2C347&sr=8-1&th=1&psc=1'\n",
        "\n",
        "headers =  {\n",
        "    \"Accept\": \"text/html,application/xhtml+xml,application/xml;q=0.9,image/avif,image/webp,image/apng,*/*;q=0.8,application/signed-exchange;v=b3;q=0.7\",\n",
        "    \"Accept-Encoding\": \"gzip, deflate, br, zstd\",\n",
        "    \"Accept-Language\": \"en-US,en;q=0.9\",\n",
        "    \"User-Agent\": \"Mozilla/5.0 (Windows NT 10.0; Win64; x64) AppleWebKit/537.36 (KHTML, like Gecko) Chrome/140.0.0.0 Safari/537.36\"\n",
        "  }\n",
        "\n",
        "page = requests.get(URL, headers=headers)\n",
        "\n",
        "soup1 = BeautifulSoup(page.content, \"html.parser\")\n",
        "\n",
        "soup2 = BeautifulSoup(soup1.prettify(), \"html.parser\")\n",
        "\n",
        "title = soup2.find(id='productTitle').get_text().strip()\n",
        "\n",
        "price = soup2.find(class_='a-price aok-align-center').find(class_='a-offscreen').get_text().strip()[1:]\n",
        "\n",
        "print(title)\n",
        "print(price)\n",
        "type(price)"
      ],
      "metadata": {
        "id": "8_f2Z4oogqXi",
        "colab": {
          "base_uri": "https://localhost:8080/"
        },
        "outputId": "9497dba7-91e8-496a-a15f-587a9244735c"
      },
      "execution_count": 7,
      "outputs": [
        {
          "output_type": "stream",
          "name": "stdout",
          "text": [
            "Business Intelligence Analyst Dad T-Shirt Funny Gift Nothing Scares Me\n",
            "19.97\n"
          ]
        },
        {
          "output_type": "execute_result",
          "data": {
            "text/plain": [
              "str"
            ]
          },
          "metadata": {},
          "execution_count": 7
        }
      ]
    },
    {
      "cell_type": "code",
      "source": [
        "import datetime\n",
        "\n",
        "today = datetime.date.today()\n",
        "\n",
        "\n",
        "print(today)"
      ],
      "metadata": {
        "id": "tzm3yPkGgqdS",
        "colab": {
          "base_uri": "https://localhost:8080/"
        },
        "outputId": "ee2a5278-9fca-4ba8-dde8-cac11e2f2fba"
      },
      "execution_count": 8,
      "outputs": [
        {
          "output_type": "stream",
          "name": "stdout",
          "text": [
            "2025-10-04\n"
          ]
        }
      ]
    },
    {
      "cell_type": "code",
      "source": [
        "import csv\n",
        "header = ['Title', 'Price', 'Date']\n",
        "data = [title, price, today]\n",
        "\n",
        "\n",
        "with open('AmazonWebScraperDataset.csv', 'w', newline='', encoding='UTF8') as f:\n",
        "    writer = csv.writer(f)\n",
        "    writer.writerow(header)\n",
        "    writer.writerow(data)\n",
        "\n",
        "\n",
        "\n"
      ],
      "metadata": {
        "id": "e2QbOVDhgqav"
      },
      "execution_count": 9,
      "outputs": []
    },
    {
      "cell_type": "code",
      "source": [
        "import pandas as pd\n",
        "\n",
        "df = pd.read_csv(r'AmazonWebScraperDataset.csv')\n",
        "\n",
        "print(df)"
      ],
      "metadata": {
        "id": "Miy4Yec5gqgI",
        "colab": {
          "base_uri": "https://localhost:8080/"
        },
        "outputId": "6d0e9807-f5a3-47c9-80ea-df94e7ce29b2"
      },
      "execution_count": 13,
      "outputs": [
        {
          "output_type": "stream",
          "name": "stdout",
          "text": [
            "                                               Title  Price        Date\n",
            "0  Business Intelligence Analyst Dad T-Shirt Funn...  19.97  2025-10-04\n",
            "1  Business Intelligence Analyst Dad T-Shirt Funn...  19.97  2025-10-04\n",
            "2  Business Intelligence Analyst Dad T-Shirt Funn...  19.97  2025-10-04\n"
          ]
        }
      ]
    },
    {
      "cell_type": "code",
      "source": [
        "\n",
        "with open('AmazonWebScraperDataset.csv', 'a+', newline='', encoding='UTF8') as f:\n",
        "    writer = csv.writer(f)\n",
        "    writer.writerow(data)"
      ],
      "metadata": {
        "id": "mhqSSbD2gqjC"
      },
      "execution_count": 12,
      "outputs": []
    },
    {
      "cell_type": "code",
      "source": [
        "#Combine all of the above code into one function\n",
        "\n",
        "\n",
        "def check_price():\n",
        "    URL = 'https://www.amazon.com/Business-Intelligence-Analyst-T-Shirt-Nothing/dp/B0DP84L2PP/ref=sr_1_1?crid=2MFTC47XTVUW9&dib=eyJ2IjoiMSJ9.CeHoY89Fz9c8IN3obB09rIticbWgLrXYJ_RLDRPn-VHkcwhRX_E_g7re9p0FNva4AH2SwA5pnMlT1bT4chM0is95p9bhGn7Gbi1ibBMf2iTqAQfpVGI_29Py5mHIQd5t.FBhYk2VEsGfmssk9h10NqrOoHx7LidvYvZJ9tuQvZWw&dib_tag=se&keywords=Funny%2BBusiness%2BAnalyst%2BT-shirt&qid=1759492099&sprefix=funnybusiness%2Banalyst%2Bt-shirt%2Caps%2C347&sr=8-1&th=1&psc=1'\n",
        "\n",
        "    headers =  {\n",
        "    \"Accept\": \"text/html,application/xhtml+xml,application/xml;q=0.9,image/avif,image/webp,image/apng,*/*;q=0.8,application/signed-exchange;v=b3;q=0.7\",\n",
        "    \"Accept-Encoding\": \"gzip, deflate, br, zstd\",\n",
        "    \"Accept-Language\": \"en-US,en;q=0.9\",\n",
        "    \"User-Agent\": \"Mozilla/5.0 (Windows NT 10.0; Win64; x64) AppleWebKit/537.36 (KHTML, like Gecko) Chrome/140.0.0.0 Safari/537.36\"}\n",
        "\n",
        "    page = requests.get(URL, headers=headers)\n",
        "\n",
        "    soup1 = BeautifulSoup(page.content, \"html.parser\")\n",
        "    soup2 = BeautifulSoup(soup1.prettify(), \"html.parser\")\n",
        "    title = soup2.find(id='productTitle').get_text().strip()\n",
        "\n",
        "    price = soup2.find(class_='a-price aok-align-center').find(class_='a-offscreen').get_text().strip()[1:]\n",
        "\n",
        "    import datetime\n",
        "\n",
        "    today = datetime.date.today()\n",
        "\n",
        "    import csv\n",
        "\n",
        "    header = ['Title', 'Price', 'Date']\n",
        "    data = [title, price, today]\n",
        "\n",
        "    with open('AmazonWebScraperDataset.csv', 'a+', newline='', encoding='UTF8') as f:\n",
        "        writer = csv.writer(f)\n",
        "        writer.writerow(data)\n",
        "\n"
      ],
      "metadata": {
        "id": "q9a-LBtvgqlo"
      },
      "execution_count": 14,
      "outputs": []
    },
    {
      "cell_type": "code",
      "source": [
        "while(True):\n",
        "    check_price()\n",
        "    time.sleep(5)"
      ],
      "metadata": {
        "colab": {
          "base_uri": "https://localhost:8080/",
          "height": 173
        },
        "id": "EYUy0YjB1MVz",
        "outputId": "b6e01f48-610c-4d45-db9a-5263e8b00a98"
      },
      "execution_count": 15,
      "outputs": [
        {
          "output_type": "error",
          "ename": "KeyboardInterrupt",
          "evalue": "",
          "traceback": [
            "\u001b[0;31m---------------------------------------------------------------------------\u001b[0m",
            "\u001b[0;31mKeyboardInterrupt\u001b[0m                         Traceback (most recent call last)",
            "\u001b[0;32m/tmp/ipython-input-4212351095.py\u001b[0m in \u001b[0;36m<cell line: 0>\u001b[0;34m()\u001b[0m\n\u001b[1;32m      1\u001b[0m \u001b[0;32mwhile\u001b[0m\u001b[0;34m(\u001b[0m\u001b[0;32mTrue\u001b[0m\u001b[0;34m)\u001b[0m\u001b[0;34m:\u001b[0m\u001b[0;34m\u001b[0m\u001b[0;34m\u001b[0m\u001b[0m\n\u001b[1;32m      2\u001b[0m     \u001b[0mcheck_price\u001b[0m\u001b[0;34m(\u001b[0m\u001b[0;34m)\u001b[0m\u001b[0;34m\u001b[0m\u001b[0;34m\u001b[0m\u001b[0m\n\u001b[0;32m----> 3\u001b[0;31m     \u001b[0mtime\u001b[0m\u001b[0;34m.\u001b[0m\u001b[0msleep\u001b[0m\u001b[0;34m(\u001b[0m\u001b[0;36m5\u001b[0m\u001b[0;34m)\u001b[0m\u001b[0;34m\u001b[0m\u001b[0;34m\u001b[0m\u001b[0m\n\u001b[0m",
            "\u001b[0;31mKeyboardInterrupt\u001b[0m: "
          ]
        }
      ]
    },
    {
      "cell_type": "code",
      "source": [
        "df = pd.read_csv(r'AmazonWebScraperDataset.csv')\n",
        "\n",
        "print(df)"
      ],
      "metadata": {
        "colab": {
          "base_uri": "https://localhost:8080/"
        },
        "id": "LLeEU3ji1MYm",
        "outputId": "18f7189e-a7b2-4b0c-d8b7-d83cb7d8d8e3"
      },
      "execution_count": 16,
      "outputs": [
        {
          "output_type": "stream",
          "name": "stdout",
          "text": [
            "                                               Title  Price        Date\n",
            "0  Business Intelligence Analyst Dad T-Shirt Funn...  19.97  2025-10-04\n",
            "1  Business Intelligence Analyst Dad T-Shirt Funn...  19.97  2025-10-04\n",
            "2  Business Intelligence Analyst Dad T-Shirt Funn...  19.97  2025-10-04\n",
            "3  Business Intelligence Analyst Dad T-Shirt Funn...  19.97  2025-10-04\n",
            "4  Business Intelligence Analyst Dad T-Shirt Funn...  19.97  2025-10-04\n",
            "5  Business Intelligence Analyst Dad T-Shirt Funn...  19.97  2025-10-04\n",
            "6  Business Intelligence Analyst Dad T-Shirt Funn...  19.97  2025-10-04\n",
            "7  Business Intelligence Analyst Dad T-Shirt Funn...  19.97  2025-10-04\n"
          ]
        }
      ]
    },
    {
      "cell_type": "code",
      "source": [],
      "metadata": {
        "id": "mXYRVbl_1MbN"
      },
      "execution_count": null,
      "outputs": []
    },
    {
      "cell_type": "code",
      "source": [],
      "metadata": {
        "id": "GRCU9GcI1Md8"
      },
      "execution_count": null,
      "outputs": []
    },
    {
      "cell_type": "code",
      "source": [],
      "metadata": {
        "id": "U4bVk-B3gqoZ"
      },
      "execution_count": 2,
      "outputs": []
    }
  ]
}