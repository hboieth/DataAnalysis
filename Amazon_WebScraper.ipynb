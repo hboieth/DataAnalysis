{
  "nbformat": 4,
  "nbformat_minor": 0,
  "metadata": {
    "colab": {
      "provenance": [],
      "authorship_tag": "ABX9TyNosHVzCBH5zu7vjxHknq6w",
      "include_colab_link": true
    },
    "kernelspec": {
      "name": "python3",
      "display_name": "Python 3"
    },
    "language_info": {
      "name": "python"
    }
  },
  "cells": [
    {
      "cell_type": "markdown",
      "metadata": {
        "id": "view-in-github",
        "colab_type": "text"
      },
      "source": [
        "<a href=\"https://colab.research.google.com/github/hboieth/DataAnalysis/blob/main/Amazon_WebScraper.ipynb\" target=\"_parent\"><img src=\"https://colab.research.google.com/assets/colab-badge.svg\" alt=\"Open In Colab\"/></a>"
      ]
    },
    {
      "cell_type": "code",
      "execution_count": null,
      "metadata": {
        "id": "SXM_hxxDfheV"
      },
      "outputs": [],
      "source": [
        "from bs4 import BeautifulSoup\n",
        "import requests\n",
        "\n",
        "import time\n",
        "import datetime\n",
        "\n",
        "import smtplib"
      ]
    },
    {
      "cell_type": "code",
      "source": [
        "#Connect to the website\n",
        "\n",
        "URL = 'https://www.amazon.com/Business-Intelligence-Analyst-T-Shirt-Nothing/dp/B0DP84L2PP/ref=sr_1_1?crid=2MFTC47XTVUW9&dib=eyJ2IjoiMSJ9.CeHoY89Fz9c8IN3obB09rIticbWgLrXYJ_RLDRPn-VHkcwhRX_E_g7re9p0FNva4AH2SwA5pnMlT1bT4chM0is95p9bhGn7Gbi1ibBMf2iTqAQfpVGI_29Py5mHIQd5t.FBhYk2VEsGfmssk9h10NqrOoHx7LidvYvZJ9tuQvZWw&dib_tag=se&keywords=Funny%2BBusiness%2BAnalyst%2BT-shirt&qid=1759492099&sprefix=funnybusiness%2Banalyst%2Bt-shirt%2Caps%2C347&sr=8-1&th=1&psc=1'\n",
        "\n",
        "headers =  {\n",
        "    \"Accept\": \"text/html,application/xhtml+xml,application/xml;q=0.9,image/avif,image/webp,image/apng,*/*;q=0.8,application/signed-exchange;v=b3;q=0.7\",\n",
        "    \"Accept-Encoding\": \"gzip, deflate, br, zstd\",\n",
        "    \"Accept-Language\": \"en-US,en;q=0.9\",\n",
        "    \"User-Agent\": \"Mozilla/5.0 (Windows NT 10.0; Win64; x64) AppleWebKit/537.36 (KHTML, like Gecko) Chrome/140.0.0.0 Safari/537.36\"\n",
        "  }\n",
        "\n",
        "page = requests.get(URL, headers=headers)\n",
        "\n",
        "soup1 = BeautifulSoup(page.content, \"html.parser\")\n",
        "\n",
        "soup2 = BeautifulSoup(soup1.prettify(), \"html.parser\")\n",
        "\n",
        "title = soup2.find(id='productTitle').get_text().strip()\n",
        "\n",
        "price = soup2.find(class_='a-price aok-align-center').find(class_='a-offscreen').get_text().strip()[1:]\n",
        "\n",
        "print(title)\n",
        "print(price)"
      ],
      "metadata": {
        "id": "8_f2Z4oogqXi",
        "colab": {
          "base_uri": "https://localhost:8080/"
        },
        "outputId": "f22b46d1-17c5-4396-e73b-be140d0c6e20"
      },
      "execution_count": null,
      "outputs": [
        {
          "output_type": "stream",
          "name": "stdout",
          "text": [
            "Business Intelligence Analyst Dad T-Shirt Funny Gift Nothing Scares Me\n",
            "19.97\n"
          ]
        }
      ]
    },
    {
      "cell_type": "code",
      "source": [],
      "metadata": {
        "id": "e2QbOVDhgqav"
      },
      "execution_count": null,
      "outputs": []
    },
    {
      "cell_type": "code",
      "source": [],
      "metadata": {
        "id": "tzm3yPkGgqdS"
      },
      "execution_count": null,
      "outputs": []
    },
    {
      "cell_type": "code",
      "source": [],
      "metadata": {
        "id": "Miy4Yec5gqgI"
      },
      "execution_count": null,
      "outputs": []
    },
    {
      "cell_type": "code",
      "source": [],
      "metadata": {
        "id": "mhqSSbD2gqjC"
      },
      "execution_count": null,
      "outputs": []
    },
    {
      "cell_type": "code",
      "source": [],
      "metadata": {
        "id": "q9a-LBtvgqlo"
      },
      "execution_count": null,
      "outputs": []
    },
    {
      "cell_type": "code",
      "source": [],
      "metadata": {
        "id": "U4bVk-B3gqoZ"
      },
      "execution_count": null,
      "outputs": []
    }
  ]
}